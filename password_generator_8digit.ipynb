{
 "cells": [
  {
   "cell_type": "markdown",
   "metadata": {},
   "source": [
    "## **PASSWORD GENERATOR**"
   ]
  },
  {
   "cell_type": "code",
   "execution_count": 2,
   "metadata": {},
   "outputs": [],
   "source": [
    "import re\n",
    "import string\n",
    "import random as rdm"
   ]
  },
  {
   "cell_type": "markdown",
   "metadata": {},
   "source": [
    "## **Method-1**"
   ]
  },
  {
   "cell_type": "code",
   "execution_count": 7,
   "metadata": {},
   "outputs": [],
   "source": [
    "def generate_password(length):\n",
    "    p = \"\"\n",
    "    for i in range(length):\n",
    "        n = rdm.randint(33, 123)\n",
    "        p+=chr(n)\n",
    "    return p"
   ]
  },
  {
   "cell_type": "code",
   "execution_count": 9,
   "metadata": {},
   "outputs": [
    {
     "name": "stdout",
     "output_type": "stream",
     "text": [
      "3Z3+FbJ\\\n"
     ]
    }
   ],
   "source": [
    "l = int(input(\"Length:\"))\n",
    "print(generate_password(l))"
   ]
  },
  {
   "cell_type": "markdown",
   "metadata": {},
   "source": [
    "## **Method-2**"
   ]
  },
  {
   "cell_type": "code",
   "execution_count": 58,
   "metadata": {},
   "outputs": [],
   "source": [
    "capital_alpha = ['A', 'B', 'C', 'D', 'E', 'F', 'G', 'H', 'I', 'J', 'K', 'L', 'M', 'N', 'O', 'P', 'Q', 'R', 'S', 'T', 'U', 'V', 'W', 'X', 'Y', 'Z']\n",
    "lower_alpha = ['a', 'b', 'c', 'd', 'e', 'f', 'g', 'h', 'i', 'j', 'k', 'l', 'm', 'n', 'o', 'p', 'q', 'r', 's', 't', 'u', 'v', 'w', 'x', 'y', 'z']\n",
    "special_char = ['/', '.', ',', ';', ':', '*', '&', '^', \"%\", '$', '#', '@', '!', ']', '[', '|', '=', '-', '_', '\"', \"'\", '<', '>', '?']\n",
    "\n",
    "def password_generator():\n",
    "    x = \"\"\n",
    "    y = rdm.randrange(1000,10000)\n",
    "\n",
    "    x+=rdm.choice(lower_alpha)\n",
    "    x+=rdm.choice(capital_alpha)\n",
    "    x+=rdm.choice(special_char)\n",
    "    x+=rdm.choice(capital_alpha)\n",
    "    x+=str(y)\n",
    "    pswrd = list(tuple(x))\n",
    "\n",
    "    rdm.shuffle(pswrd)\n",
    "    password = \"\".join(pswrd)\n",
    "    return password"
   ]
  },
  {
   "cell_type": "code",
   "execution_count": 59,
   "metadata": {},
   "outputs": [
    {
     "name": "stdout",
     "output_type": "stream",
     "text": [
      "z:XN6688\n"
     ]
    }
   ],
   "source": [
    "print(password_generator())"
   ]
  },
  {
   "cell_type": "code",
   "execution_count": 6,
   "metadata": {},
   "outputs": [
    {
     "name": "stdout",
     "output_type": "stream",
     "text": [
      "47799\n"
     ]
    }
   ],
   "source": [
    "l = int(input(\"Length:\"))\n",
    "p = rdm.randint(10**(l-1), 10**l)\n",
    "print(p)"
   ]
  },
  {
   "cell_type": "code",
   "execution_count": null,
   "metadata": {},
   "outputs": [],
   "source": []
  }
 ],
 "metadata": {
  "kernelspec": {
   "display_name": "base",
   "language": "python",
   "name": "python3"
  },
  "language_info": {
   "codemirror_mode": {
    "name": "ipython",
    "version": 3
   },
   "file_extension": ".py",
   "mimetype": "text/x-python",
   "name": "python",
   "nbconvert_exporter": "python",
   "pygments_lexer": "ipython3",
   "version": "3.11.5"
  }
 },
 "nbformat": 4,
 "nbformat_minor": 2
}
